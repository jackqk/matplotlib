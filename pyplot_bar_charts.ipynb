{
  "nbformat": 4,
  "nbformat_minor": 0,
  "metadata": {
    "colab": {
      "name": "pyplot bar charts.ipynb",
      "provenance": [],
      "collapsed_sections": [],
      "include_colab_link": true
    },
    "kernelspec": {
      "name": "python3",
      "display_name": "Python 3"
    }
  },
  "cells": [
    {
      "cell_type": "markdown",
      "metadata": {
        "id": "view-in-github",
        "colab_type": "text"
      },
      "source": [
        "<a href=\"https://colab.research.google.com/github/jackqk/matplotlib-note/blob/master/pyplot_bar_charts.ipynb\" target=\"_parent\"><img src=\"https://colab.research.google.com/assets/colab-badge.svg\" alt=\"Open In Colab\"/></a>"
      ]
    },
    {
      "cell_type": "markdown",
      "metadata": {
        "id": "0PgxnAlKk6zf",
        "colab_type": "text"
      },
      "source": [
        "# **Bar Charts**"
      ]
    },
    {
      "cell_type": "markdown",
      "metadata": {
        "id": "R7CXG66FnSKZ",
        "colab_type": "text"
      },
      "source": [
        "# **Hello Bar Charts**"
      ]
    },
    {
      "cell_type": "code",
      "metadata": {
        "id": "HCOtUSA5nXyo",
        "colab_type": "code",
        "colab": {
          "base_uri": "https://localhost:8080/",
          "height": 282
        },
        "outputId": "7def12af-27ec-44ae-c2e3-9787a4de7500"
      },
      "source": [
        "import numpy as np\n",
        "import matplotlib.pyplot as plt\n",
        "\n",
        "x = np.array([0,1,2,3,4,5,6,7])\n",
        "y = np.array([1,2,3,4,5,6,7,8])\n",
        "plt.bar(x, y, width=0.3)"
      ],
      "execution_count": 4,
      "outputs": [
        {
          "output_type": "execute_result",
          "data": {
            "text/plain": [
              "<BarContainer object of 8 artists>"
            ]
          },
          "metadata": {
            "tags": []
          },
          "execution_count": 4
        },
        {
          "output_type": "display_data",
          "data": {
            "image/png": "[encoded data removed]",
            "text/plain": [
              "<Figure size 432x288 with 1 Axes>"
            ]
          },
          "metadata": {
            "tags": []
          }
        }
      ]
    },
    {
      "cell_type": "markdown",
      "metadata": {
        "id": "Ihbu0yzuosVF",
        "colab_type": "text"
      },
      "source": [
        "# **Multi Bar**"
      ]
    },
    {
      "cell_type": "code",
      "metadata": {
        "id": "NS97TKS9ovCz",
        "colab_type": "code",
        "colab": {
          "base_uri": "https://localhost:8080/",
          "height": 282
        },
        "outputId": "9cddd672-16ae-4d95-a98f-673bd01d4d4b"
      },
      "source": [
        "import numpy as np\n",
        "import matplotlib.pyplot as plt\n",
        "\n",
        "x1 = np.array([0,1,2,3,4,5,6,7])\n",
        "y1 = np.array([1,2,3,4,5,6,7,8])\n",
        "x2 = []\n",
        "y2 = []\n",
        "\n",
        "for item in x1:\n",
        "  x2.append(item+0.3)\n",
        "y2 = y1 ** 2;\n",
        "plt.bar(x1, y1, width=0.3)\n",
        "plt.bar(x2, y2, width=0.3, color='red')"
      ],
      "execution_count": 13,
      "outputs": [
        {
          "output_type": "execute_result",
          "data": {
            "text/plain": [
              "<BarContainer object of 8 artists>"
            ]
          },
          "metadata": {
            "tags": []
          },
          "execution_count": 13
        },
        {
          "output_type": "display_data",
          "data": {
            "image/png": "[encoded data removed]",
            "text/plain": [
              "<Figure size 432x288 with 1 Axes>"
            ]
          },
          "metadata": {
            "tags": []
          }
        }
      ]
    },
    {
      "cell_type": "code",
      "metadata": {
        "id": "kD6hTNiErVVS",
        "colab_type": "code",
        "colab": {
          "base_uri": "https://localhost:8080/",
          "height": 282
        },
        "outputId": "9be6d1ed-e8e7-48cd-c469-83f972bfbe2e"
      },
      "source": [
        "import numpy as np\n",
        "import matplotlib.pyplot as plt\n",
        "\n",
        "x1 = np.array([0,1,2,3,4,5,6,7])\n",
        "y1 = np.array([1,2,3,4,5,6,7,8])\n",
        "x2 = []\n",
        "y2 = []\n",
        "\n",
        "for item in x1:\n",
        "  x2.append(item+0.3)\n",
        "y2 = y1 ** 2;\n",
        "plt.bar(x1, y1, width=0.3)\n",
        "plt.bar(x1, y2, width=0.3, color='red', bottom=y1)"
      ],
      "execution_count": 23,
      "outputs": [
        {
          "output_type": "execute_result",
          "data": {
            "text/plain": [
              "<BarContainer object of 8 artists>"
            ]
          },
          "metadata": {
            "tags": []
          },
          "execution_count": 23
        },
        {
          "output_type": "display_data",
          "data": {
            "image/png": "[encoded data removed]",
            "text/plain": [
              "<Figure size 432x288 with 1 Axes>"
            ]
          },
          "metadata": {
            "tags": []
          }
        }
      ]
    },
    {
      "cell_type": "code",
      "metadata": {
        "id": "LkmASQTGs7nf",
        "colab_type": "code",
        "colab": {
          "base_uri": "https://localhost:8080/",
          "height": 282
        },
        "outputId": "3e0af33a-a04e-4539-dc89-4d0bea728c63"
      },
      "source": [
        "# 横着画\n",
        "import numpy as np\n",
        "import matplotlib.pyplot as plt\n",
        "\n",
        "x1 = np.array([0,1,2,3,4,5,6,7])\n",
        "y1 = np.array([1,2,3,4,5,6,7,8])\n",
        "x2 = []\n",
        "y2 = []\n",
        "\n",
        "for item in x1:\n",
        "  x2.append(item+0.3)\n",
        "y2 = y1 ** 2;\n",
        "plt.barh(x1, y1, height=0.3)\n",
        "plt.barh(x1, y2, height=0.3, color='red', left=y1)"
      ],
      "execution_count": 28,
      "outputs": [
        {
          "output_type": "execute_result",
          "data": {
            "text/plain": [
              "<BarContainer object of 8 artists>"
            ]
          },
          "metadata": {
            "tags": []
          },
          "execution_count": 28
        },
        {
          "output_type": "display_data",
          "data": {
            "image/png": "[encoded data removed]",
            "text/plain": [
              "<Figure size 432x288 with 1 Axes>"
            ]
          },
          "metadata": {
            "tags": []
          }
        }
      ]
    }
  ]
}