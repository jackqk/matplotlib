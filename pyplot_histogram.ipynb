{
  "nbformat": 4,
  "nbformat_minor": 0,
  "metadata": {
    "colab": {
      "name": "pyplot histogram.ipynb",
      "provenance": [],
      "collapsed_sections": [],
      "include_colab_link": true
    },
    "kernelspec": {
      "name": "python3",
      "display_name": "Python 3"
    }
  },
  "cells": [
    {
      "cell_type": "markdown",
      "metadata": {
        "id": "view-in-github",
        "colab_type": "text"
      },
      "source": [
        "<a href=\"https://colab.research.google.com/github/jackqk/matplotlib-note/blob/master/pyplot_histogram.ipynb\" target=\"_parent\"><img src=\"https://colab.research.google.com/assets/colab-badge.svg\" alt=\"Open In Colab\"/></a>"
      ]
    },
    {
      "cell_type": "markdown",
      "metadata": {
        "id": "dj_0fLFcYFdh",
        "colab_type": "text"
      },
      "source": [
        "# **Histograms**"
      ]
    },
    {
      "cell_type": "markdown",
      "metadata": {
        "id": "OmmvNWYhYSOh",
        "colab_type": "text"
      },
      "source": [
        "# **Hello Histograms**"
      ]
    },
    {
      "cell_type": "code",
      "metadata": {
        "id": "GdpiO9yHZQdR",
        "colab_type": "code",
        "colab": {
          "base_uri": "https://localhost:8080/",
          "height": 281
        },
        "outputId": "15b7417d-6db1-4cb6-fd83-b0bcccbd1828"
      },
      "source": [
        "import numpy as np\n",
        "import matplotlib.pyplot as plt\n",
        "\n",
        "fig, ((ax1, ax2),(ax3, ax4)) = plt.subplots(2, 2, sharex=True)\n",
        "axs = [ax1, ax2, ax3, ax4]\n",
        "\n",
        "for n in range(0, len(axs)):\n",
        "  sample_size = 10**(n+1)\n",
        "  sample = np.random.normal(loc=0.0, scale=1.0, size=sample_size)\n",
        "  axs[n].hist(sample)\n",
        "  axs[n].set_title(\"n={}\".format(sample_size))"
      ],
      "execution_count": 6,
      "outputs": [
        {
          "output_type": "display_data",
          "data": {
            "image/png": "[encoded data removed]",
            "text/plain": [
              "<Figure size 432x288 with 4 Axes>"
            ]
          },
          "metadata": {
            "tags": []
          }
        }
      ]
    },
    {
      "cell_type": "markdown",
      "metadata": {
        "id": "mpg2HYNDeqeX",
        "colab_type": "text"
      },
      "source": [
        "# **修改bin（让图更美观）**\n",
        "上图默认bin=10，当n=10， n=10000，好像n=10000要宽很多。不美观"
      ]
    },
    {
      "cell_type": "code",
      "metadata": {
        "id": "OcKC00SAe-7g",
        "colab_type": "code",
        "colab": {
          "base_uri": "https://localhost:8080/",
          "height": 281
        },
        "outputId": "aebcef2b-35ba-4159-b9cf-d4806eabb606"
      },
      "source": [
        "import numpy as np\n",
        "import matplotlib.pyplot as plt\n",
        "\n",
        "fig,((ax1, ax2), (ax3, ax4)) = plt.subplots(2, 2, sharex=True)\n",
        "axes = [ax1, ax2, ax3, ax4]\n",
        "\n",
        "for n in range(0, len(axes)):\n",
        "  sample_size = 10 ** (n+1)\n",
        "  sample = np.random.normal(loc=0, scale=1, size=sample_size)\n",
        "  axes[n].hist(sample, bins=100)\n",
        "  axes[n].set_title('n={}'.format(sample_size))"
      ],
      "execution_count": 12,
      "outputs": [
        {
          "output_type": "display_data",
          "data": {
            "image/png": "[encoded data removed]",
            "text/plain": [
              "<Figure size 432x288 with 4 Axes>"
            ]
          },
          "metadata": {
            "tags": []
          }
        }
      ]
    },
    {
      "cell_type": "markdown",
      "metadata": {
        "id": "18OODJD-itd2",
        "colab_type": "text"
      },
      "source": [
        "# **GridSpec**"
      ]
    },
    {
      "cell_type": "code",
      "metadata": {
        "id": "rFfiudoai6OF",
        "colab_type": "code",
        "colab": {
          "base_uri": "https://localhost:8080/",
          "height": 282
        },
        "outputId": "8eeca754-0539-4742-fb79-a7cc9ec5b268"
      },
      "source": [
        "import numpy as np\n",
        "import matplotlib.pyplot as plot\n",
        "import matplotlib.gridspec as gridspec\n",
        "\n",
        "X = np.random.random(size=10000)\n",
        "Y = np.random.normal(loc=0, scale=1, size=10000)\n",
        "\n",
        "plt.figure()\n",
        "gspec = gridspec.GridSpec(3, 3)\n",
        "#分割, 之后这些就可以直接拿来用了\n",
        "top_histogram = plt.subplot(gspec[0, 1:])\n",
        "side_histogram = plt.subplot(gspec[1:, 0])\n",
        "lower_right_histogram = plt.subplot(gspec[1:, 1:])\n",
        "# X是随机分布\n",
        "top_histogram.hist(X, bins=100)\n",
        "# Y是正太分布\n",
        "side_histogram.hist(Y, bins=100, orientation='horizontal')\n",
        "# 点散图\n",
        "lower_right_histogram.scatter(X, Y)"
      ],
      "execution_count": 41,
      "outputs": [
        {
          "output_type": "execute_result",
          "data": {
            "text/plain": [
              "<matplotlib.collections.PathCollection at 0x7f9113ce15c0>"
            ]
          },
          "metadata": {
            "tags": []
          },
          "execution_count": 41
        },
        {
          "output_type": "display_data",
          "data": {
            "image/png": "[encoded data removed]",
            "text/plain": [
              "<Figure size 432x288 with 3 Axes>"
            ]
          },
          "metadata": {
            "tags": []
          }
        }
      ]
    },
    {
      "cell_type": "code",
      "metadata": {
        "id": "s6iBdf2QnkF6",
        "colab_type": "code",
        "colab": {
          "base_uri": "https://localhost:8080/",
          "height": 282
        },
        "outputId": "b540d55c-dbe7-4ef5-af1f-add733804b90"
      },
      "source": [
        "# 与上面例子相比，hist多了density参数\n",
        "# 多了几个可以调的参数\n",
        "import numpy as np\n",
        "import matplotlib.pyplot as plot\n",
        "import matplotlib.gridspec as gridspec\n",
        "\n",
        "X = np.random.random(size=10000)\n",
        "Y = np.random.normal(loc=0, scale=1, size=10000)\n",
        "\n",
        "plt.figure()\n",
        "gspec = gridspec.GridSpec(3, 3)\n",
        "#分割, 之后这些就可以直接拿来用了\n",
        "top_histogram = plt.subplot(gspec[0, 1:])\n",
        "side_histogram = plt.subplot(gspec[1:, 0])\n",
        "lower_right_histogram = plt.subplot(gspec[1:, 1:])\n",
        "# X是随机分布\n",
        "top_histogram.hist(X, bins=100, density=True)\n",
        "# Y是正太分布\n",
        "side_histogram.hist(Y, bins=100, orientation='horizontal', density=True)\n",
        "side_histogram.invert_xaxis()\n",
        "# 点散图\n",
        "lower_right_histogram.scatter(X, Y)\n",
        "\n",
        "top_histogram.set_xlim(0, 1)\n",
        "lower_right_histogram.set_xlim(0, 1)\n",
        "side_histogram.set_ylim(-5, 5)\n",
        "lower_right_histogram.set_ylim(-5, 5)"
      ],
      "execution_count": 50,
      "outputs": [
        {
          "output_type": "execute_result",
          "data": {
            "text/plain": [
              "(-5, 5)"
            ]
          },
          "metadata": {
            "tags": []
          },
          "execution_count": 50
        },
        {
          "output_type": "display_data",
          "data": {
            "image/png": "[encoded data removed]",
            "text/plain": [
              "<Figure size 432x288 with 3 Axes>"
            ]
          },
          "metadata": {
            "tags": []
          }
        }
      ]
    }
  ]
}