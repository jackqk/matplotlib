{
  "nbformat": 4,
  "nbformat_minor": 0,
  "metadata": {
    "colab": {
      "name": "pyplot subplot.ipynb",
      "provenance": [],
      "collapsed_sections": [],
      "include_colab_link": true
    },
    "kernelspec": {
      "name": "python3",
      "display_name": "Python 3"
    }
  },
  "cells": [
    {
      "cell_type": "markdown",
      "metadata": {
        "id": "view-in-github",
        "colab_type": "text"
      },
      "source": [
        "<a href=\"https://colab.research.google.com/github/jackqk/matplotlib-note/blob/master/pyplot_subplot.ipynb\" target=\"_parent\"><img src=\"https://colab.research.google.com/assets/colab-badge.svg\" alt=\"Open In Colab\"/></a>"
      ]
    },
    {
      "cell_type": "markdown",
      "metadata": {
        "id": "lrxuf0fyDCB8",
        "colab_type": "text"
      },
      "source": [
        "# **Subplot**"
      ]
    },
    {
      "cell_type": "markdown",
      "metadata": {
        "id": "vXRFhnu_XRYd",
        "colab_type": "text"
      },
      "source": [
        "# **Hello Subplot**"
      ]
    },
    {
      "cell_type": "code",
      "metadata": {
        "id": "fu0LUHHcDJTp",
        "colab_type": "code",
        "outputId": "1338d830-c278-4fd8-a7de-cf994f954ab8",
        "colab": {
          "base_uri": "https://localhost:8080/",
          "height": 282
        }
      },
      "source": [
        "import matplotlib.pyplot as plt\n",
        "import numpy as np\n",
        "\n",
        "plt.figure()\n",
        "# No.1 Figure\n",
        "plt.subplot(1,2,1)\n",
        "linear_data = np.array([1,2,3,4,5,6,7,8])\n",
        "plt.plot(linear_data, '-o')\n",
        "# No.2 Figure\n",
        "exponential_data = linear_data ** 2\n",
        "plt.subplot(1,2,2)\n",
        "plt.plot(exponential_data, '-o')"
      ],
      "execution_count": 0,
      "outputs": [
        {
          "output_type": "execute_result",
          "data": {
            "text/plain": [
              "[<matplotlib.lines.Line2D at 0x7f90d5366dd8>]"
            ]
          },
          "metadata": {
            "tags": []
          },
          "execution_count": 8
        },
        {
          "output_type": "display_data",
          "data": {
            "image/png": "[encoded data removed]",
            "text/plain": [
              "<Figure size 432x288 with 2 Axes>"
            ]
          },
          "metadata": {
            "tags": []
          }
        }
      ]
    },
    {
      "cell_type": "code",
      "metadata": {
        "id": "11FmVPLDDNyX",
        "colab_type": "code",
        "outputId": "06e131fa-8a3a-4565-8699-ca38661e1bbc",
        "colab": {
          "base_uri": "https://localhost:8080/",
          "height": 338
        }
      },
      "source": [
        "import matplotlib.pyplot as plt\n",
        "import numpy as np\n",
        "\n",
        "plt.figure()\n",
        "\n",
        "linear_data = np.array([1,2,3,4,5,6,7,8])\n",
        "plt.subplot(1,2,1)\n",
        "plt.plot(linear_data, '-o')\n",
        "\n",
        "exponential_data = linear_data ** 2\n",
        "plt.subplot(1, 2, 2)\n",
        "plt.plot(exponential_data, '-o')\n",
        "\n",
        "#重点：加点东西很方便（只需要再获取，加进去就行）\n",
        "plt.subplot(1,2,1)\n",
        "plt.plot(exponential_data, '-x')"
      ],
      "execution_count": 0,
      "outputs": [
        {
          "output_type": "stream",
          "text": [
            "/usr/local/lib/python3.6/dist-packages/ipykernel_launcher.py:15: MatplotlibDeprecationWarning: Adding an axes using the same arguments as a previous axes currently reuses the earlier instance.  In a future version, a new instance will always be created and returned.  Meanwhile, this warning can be suppressed, and the future behavior ensured, by passing a unique label to each axes instance.\n",
            "  from ipykernel import kernelapp as app\n"
          ],
          "name": "stderr"
        },
        {
          "output_type": "execute_result",
          "data": {
            "text/plain": [
              "[<matplotlib.lines.Line2D at 0x7f90d52dabe0>]"
            ]
          },
          "metadata": {
            "tags": []
          },
          "execution_count": 11
        },
        {
          "output_type": "display_data",
          "data": {
            "image/png": "[encoded data removed]",
            "text/plain": [
              "<Figure size 432x288 with 2 Axes>"
            ]
          },
          "metadata": {
            "tags": []
          }
        }
      ]
    },
    {
      "cell_type": "markdown",
      "metadata": {
        "id": "RK5x07-YXXbx",
        "colab_type": "text"
      },
      "source": [
        "# **共享坐标轴**"
      ]
    },
    {
      "cell_type": "code",
      "metadata": {
        "id": "Njo0z310SafX",
        "colab_type": "code",
        "outputId": "dcceafcc-0da2-4822-bb84-632787b558f7",
        "colab": {
          "base_uri": "https://localhost:8080/",
          "height": 282
        }
      },
      "source": [
        "import matplotlib.pyplot as plt\n",
        "import numpy as np\n",
        "\n",
        "plt.figure()\n",
        "linear_data = np.array([1,2,3,4,5,6,7,8])\n",
        "ax1 = plt.subplot(1,2,1)\n",
        "plt.plot(linear_data, '-o')\n",
        "\n",
        "exponential_data = linear_data ** 2\n",
        "#share 其实就是哪个范围大用哪个\n",
        "ax2 = plt.subplot(1,2,2, sharey=ax1)\n",
        "plt.plot(exponential_data, '-o')"
      ],
      "execution_count": 0,
      "outputs": [
        {
          "output_type": "execute_result",
          "data": {
            "text/plain": [
              "[<matplotlib.lines.Line2D at 0x7f90d4b24710>]"
            ]
          },
          "metadata": {
            "tags": []
          },
          "execution_count": 24
        },
        {
          "output_type": "display_data",
          "data": {
            "image/png": "[encoded data removed]",
            "text/plain": [
              "<Figure size 432x288 with 2 Axes>"
            ]
          },
          "metadata": {
            "tags": []
          }
        }
      ]
    },
    {
      "cell_type": "markdown",
      "metadata": {
        "id": "nzulpOW7XhWd",
        "colab_type": "text"
      },
      "source": [
        "# **快速创建多个subplot语法**"
      ]
    },
    {
      "cell_type": "code",
      "metadata": {
        "id": "1QmyvxqXV5oo",
        "colab_type": "code",
        "outputId": "7f8daeaf-b81b-4bda-ea38-107f1eb5dda1",
        "colab": {
          "base_uri": "https://localhost:8080/",
          "height": 282
        }
      },
      "source": [
        "# 漂亮的语法,\n",
        "import matplotlib.pyplot as plt\n",
        "import numpy as np\n",
        "\n",
        "linear_data = np.array([1,2,3,4,5,6,7,8])\n",
        "fig, ((ax1,ax2,ax3), (ax4,ax5,ax6), (ax7,ax8,ax9)) = plt.subplots(3,3, sharex=True, sharey=True)\n",
        "ax5.plot(linear_data, '-o')"
      ],
      "execution_count": 0,
      "outputs": [
        {
          "output_type": "execute_result",
          "data": {
            "text/plain": [
              "[<matplotlib.lines.Line2D at 0x7f90d43e7860>]"
            ]
          },
          "metadata": {
            "tags": []
          },
          "execution_count": 33
        },
        {
          "output_type": "display_data",
          "data": {
            "image/png": "[encoded data removed]",
            "text/plain": [
              "<Figure size 432x288 with 9 Axes>"
            ]
          },
          "metadata": {
            "tags": []
          }
        }
      ]
    },
    {
      "cell_type": "code",
      "metadata": {
        "id": "Zi9SoL7zaF5R",
        "colab_type": "code",
        "outputId": "324e25f3-0d65-4dd0-c797-1e38f203e758",
        "colab": {
          "base_uri": "https://localhost:8080/",
          "height": 265
        }
      },
      "source": [
        "import matplotlib.pyplot as plt\n",
        "import numpy as np\n",
        "\n",
        "linear_data = np.array([1,2,3,4,5,6,7,8])\n",
        "fig, ((ax1, ax2, ax3), (ax4, ax5, ax6), (ax7, ax8, ax9)) = plt.subplots(3, 3, sharex=True, sharey=True)\n",
        "ax5.plot(linear_data, '-o')\n",
        "\n",
        "for ax in plt.gcf().get_axes():\n",
        "  for label in ax.get_xticklabels() + ax.get_yticklabels():\n",
        "    label.set_visible(True)\n",
        "\n",
        "plt.gcf().canvas.draw()"
      ],
      "execution_count": 0,
      "outputs": [
        {
          "output_type": "display_data",
          "data": {
            "image/png": "[encoded data removed]",
            "text/plain": [
              "<Figure size 432x288 with 9 Axes>"
            ]
          },
          "metadata": {
            "tags": []
          }
        }
      ]
    },
    {
      "cell_type": "markdown",
      "metadata": {
        "id": "syIqdK9mXdyr",
        "colab_type": "text"
      },
      "source": [
        "# **其他**"
      ]
    },
    {
      "cell_type": "code",
      "metadata": {
        "id": "Q5-WuFs0Xc32",
        "colab_type": "code",
        "colab": {}
      },
      "source": [
        "# 不同的写法\n",
        "import matplotlib.pyplot as plt\n",
        "plt.figure()\n",
        "plt.subplot(1,2,1) == plt.subplot(121)"
      ],
      "execution_count": 0,
      "outputs": []
    }
  ]
}