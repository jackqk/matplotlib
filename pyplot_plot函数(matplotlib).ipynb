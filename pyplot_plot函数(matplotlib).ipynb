{
  "nbformat": 4,
  "nbformat_minor": 0,
  "metadata": {
    "colab": {
      "name": "pyplot plot函数(matplotlib).ipynb",
      "provenance": [],
      "collapsed_sections": [],
      "include_colab_link": true
    },
    "kernelspec": {
      "name": "python3",
      "display_name": "Python 3"
    }
  },
  "cells": [
    {
      "cell_type": "markdown",
      "metadata": {
        "id": "view-in-github",
        "colab_type": "text"
      },
      "source": [
        "<a href=\"https://colab.research.google.com/github/jackqk/matplotlib-note/blob/master/pyplot_plot%E5%87%BD%E6%95%B0(matplotlib).ipynb\" target=\"_parent\"><img src=\"https://colab.research.google.com/assets/colab-badge.svg\" alt=\"Open In Colab\"/></a>"
      ]
    },
    {
      "cell_type": "markdown",
      "metadata": {
        "id": "m5vsAuHlcQrL",
        "colab_type": "text"
      },
      "source": [
        "# **pyplot plot函数**\n"
      ]
    },
    {
      "cell_type": "code",
      "metadata": {
        "id": "Uq5V5UfuO59i",
        "colab_type": "code",
        "outputId": "a9f20ad4-520b-41bc-b081-5ff413017dba",
        "colab": {
          "base_uri": "https://localhost:8080/",
          "height": 35
        }
      },
      "source": [
        "# 获得当前环境的backend()\n",
        "%matplotlib notebook\n",
        "%matplotlib inline\n",
        "import matplotlib as mpl\n",
        "mpl.get_backend()"
      ],
      "execution_count": 12,
      "outputs": [
        {
          "output_type": "execute_result",
          "data": {
            "text/plain": [
              "'module://ipykernel.pylab.backend_inline'"
            ]
          },
          "metadata": {
            "tags": []
          },
          "execution_count": 12
        }
      ]
    },
    {
      "cell_type": "code",
      "metadata": {
        "id": "F7XCLl2qckum",
        "colab_type": "code",
        "colab": {
          "base_uri": "https://localhost:8080/",
          "height": 282
        },
        "outputId": "c65df2b5-96a7-4331-e485-5eb49428c0ca"
      },
      "source": [
        "import matplotlib.pyplot as plt\n",
        "# 没有任何图的原因：没有指定第三个参数，\n",
        "plt.plot(3,2)"
      ],
      "execution_count": 13,
      "outputs": [
        {
          "output_type": "execute_result",
          "data": {
            "text/plain": [
              "[<matplotlib.lines.Line2D at 0x7f99ed85f3c8>]"
            ]
          },
          "metadata": {
            "tags": []
          },
          "execution_count": 13
        },
        {
          "output_type": "display_data",
          "data": {
            "image/png": "[encoded data removed]",
            "text/plain": [
              "<Figure size 432x288 with 1 Axes>"
            ]
          },
          "metadata": {
            "tags": []
          }
        }
      ]
    },
    {
      "cell_type": "code",
      "metadata": {
        "id": "zxYXD6ZteY-_",
        "colab_type": "code",
        "colab": {
          "base_uri": "https://localhost:8080/",
          "height": 282
        },
        "outputId": "fe4b5280-4989-462f-b904-7d5c4afa6906"
      },
      "source": [
        "# 第三个参数是告诉图片以什么方式显示\n",
        "# 返回一个Line2D\n",
        "plt.plot(3, 2, 'o')"
      ],
      "execution_count": 20,
      "outputs": [
        {
          "output_type": "execute_result",
          "data": {
            "text/plain": [
              "[<matplotlib.lines.Line2D at 0x7f99ed62a6d8>]"
            ]
          },
          "metadata": {
            "tags": []
          },
          "execution_count": 20
        },
        {
          "output_type": "display_data",
          "data": {
            "image/png": "[encoded data removed]",
            "text/plain": [
              "<Figure size 432x288 with 1 Axes>"
            ]
          },
          "metadata": {
            "tags": []
          }
        }
      ]
    },
    {
      "cell_type": "code",
      "metadata": {
        "id": "wClDx5XOfCiS",
        "colab_type": "code",
        "colab": {}
      },
      "source": [
        "# 若用Artist层实现就会比较麻烦\n",
        "# 代码如下：\n",
        "from matplotlib.backends.backend_agg import FigureCanvasAgg\n",
        "from matplotlib.figure import Figure\n",
        "\n",
        "fig = Figure()\n",
        "canvas = FigureCanvasAgg(fig)\n",
        "\n",
        "ax = fig.add_subplot(111)\n",
        "ax.plot(3, 2, '.')\n",
        "canvas.print_png('test.png')"
      ],
      "execution_count": 0,
      "outputs": []
    },
    {
      "cell_type": "markdown",
      "metadata": {
        "id": "7OA3LD7qoeAx",
        "colab_type": "text"
      },
      "source": [
        "## 修改坐标轴"
      ]
    },
    {
      "cell_type": "code",
      "metadata": {
        "id": "L24Sl7dZofqO",
        "colab_type": "code",
        "colab": {
          "base_uri": "https://localhost:8080/",
          "height": 286
        },
        "outputId": "552d2be3-ba77-4326-acc7-9550b01b223e"
      },
      "source": [
        "import matplotlib.pyplot as plt\n",
        "plt.plot(3, 2, 'o')\n",
        "ax = plt.gca()\n",
        "# x轴范围：0-6；y轴范围：0-10\n",
        "ax.axis([0, 6, 0, 10])"
      ],
      "execution_count": 31,
      "outputs": [
        {
          "output_type": "execute_result",
          "data": {
            "text/plain": [
              "[0, 6, 0, 10]"
            ]
          },
          "metadata": {
            "tags": []
          },
          "execution_count": 31
        },
        {
          "output_type": "display_data",
          "data": {
            "image/png": "[encoded data removed]",
            "text/plain": [
              "<Figure size 432x288 with 1 Axes>"
            ]
          },
          "metadata": {
            "tags": []
          }
        }
      ]
    },
    {
      "cell_type": "markdown",
      "metadata": {
        "id": "jB9LpJk7qCgW",
        "colab_type": "text"
      },
      "source": [
        "## 在任何时候你都可以向axes添加东西"
      ]
    },
    {
      "cell_type": "code",
      "metadata": {
        "id": "b6bBE_JHqKLN",
        "colab_type": "code",
        "colab": {
          "base_uri": "https://localhost:8080/",
          "height": 495
        },
        "outputId": "869728b5-b4ca-4d13-c533-75fa84d1b86e"
      },
      "source": [
        "plt.plot(1.5, 1.5, 'o')\n",
        "plt.plot(2, 2, 'o')\n",
        "plt.plot(4, 4, 'o')\n",
        "ax = plt.gca()\n",
        "ax.get_children()"
      ],
      "execution_count": 34,
      "outputs": [
        {
          "output_type": "execute_result",
          "data": {
            "text/plain": [
              "[<matplotlib.lines.Line2D at 0x7f99ecf5a358>,\n",
              " <matplotlib.lines.Line2D at 0x7f99ecfb8860>,\n",
              " <matplotlib.lines.Line2D at 0x7f99ecf5a6a0>,\n",
              " <matplotlib.spines.Spine at 0x7f99ecfb8278>,\n",
              " <matplotlib.spines.Spine at 0x7f99ecfb0080>,\n",
              " <matplotlib.spines.Spine at 0x7f99ecfb0f98>,\n",
              " <matplotlib.spines.Spine at 0x7f99ecfb0e10>,\n",
              " <matplotlib.axis.XAxis at 0x7f99ecfb8400>,\n",
              " <matplotlib.axis.YAxis at 0x7f99ecfb0b38>,\n",
              " Text(0.5, 1.0, ''),\n",
              " Text(0.0, 1.0, ''),\n",
              " Text(1.0, 1.0, ''),\n",
              " <matplotlib.patches.Rectangle at 0x7f99ecfa5828>]"
            ]
          },
          "metadata": {
            "tags": []
          },
          "execution_count": 34
        },
        {
          "output_type": "display_data",
          "data": {
            "image/png": "[encoded data removed]",
            "text/plain": [
              "<Figure size 432x288 with 1 Axes>"
            ]
          },
          "metadata": {
            "tags": []
          }
        }
      ]
    }
  ]
}