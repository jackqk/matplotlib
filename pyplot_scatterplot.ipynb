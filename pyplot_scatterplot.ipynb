{
  "nbformat": 4,
  "nbformat_minor": 0,
  "metadata": {
    "colab": {
      "name": "pyplot scatterplot.ipynb",
      "provenance": [],
      "collapsed_sections": [
        "pQiKm6nVidYo"
      ],
      "include_colab_link": true
    },
    "kernelspec": {
      "name": "python3",
      "display_name": "Python 3"
    }
  },
  "cells": [
    {
      "cell_type": "markdown",
      "metadata": {
        "id": "view-in-github",
        "colab_type": "text"
      },
      "source": [
        "<a href=\"https://colab.research.google.com/github/jackqk/matplotlib-note/blob/master/pyplot_scatterplot.ipynb\" target=\"_parent\"><img src=\"https://colab.research.google.com/assets/colab-badge.svg\" alt=\"Open In Colab\"/></a>"
      ]
    },
    {
      "cell_type": "markdown",
      "metadata": {
        "id": "TxA94nTJITgW",
        "colab_type": "text"
      },
      "source": [
        "# **Scatterplot**"
      ]
    },
    {
      "cell_type": "markdown",
      "metadata": {
        "id": "bht5DQxpap6c",
        "colab_type": "text"
      },
      "source": [
        "# **第一个例子**"
      ]
    },
    {
      "cell_type": "code",
      "metadata": {
        "id": "SW5vGDKeIbnN",
        "colab_type": "code",
        "colab": {
          "base_uri": "https://localhost:8080/",
          "height": 282
        },
        "outputId": "7ef2dd53-f745-431f-9c36-5382ba48e42c"
      },
      "source": [
        "import numpy as np\n",
        "import matplotlib.pyplot as plt\n",
        "\n",
        "x = np.array([1,2,3,4,5,6,7,8,9])\n",
        "y = x\n",
        "\n",
        "plt.figure()\n",
        "plt.scatter(x, y)"
      ],
      "execution_count": 3,
      "outputs": [
        {
          "output_type": "execute_result",
          "data": {
            "text/plain": [
              "<matplotlib.collections.PathCollection at 0x7fe633702fd0>"
            ]
          },
          "metadata": {
            "tags": []
          },
          "execution_count": 3
        },
        {
          "output_type": "display_data",
          "data": {
            "image/png": "[encoded data removed]",
            "text/plain": [
              "<Figure size 432x288 with 1 Axes>"
            ]
          },
          "metadata": {
            "tags": []
          }
        }
      ]
    },
    {
      "cell_type": "markdown",
      "metadata": {
        "id": "6DgX1fVNaxZg",
        "colab_type": "text"
      },
      "source": [
        "# **给point上色**"
      ]
    },
    {
      "cell_type": "markdown",
      "metadata": {
        "id": "pQiKm6nVidYo",
        "colab_type": "text"
      },
      "source": [
        "## Demo 1\n"
      ]
    },
    {
      "cell_type": "code",
      "metadata": {
        "id": "Gipj-z8waBy9",
        "colab_type": "code",
        "colab": {
          "base_uri": "https://localhost:8080/",
          "height": 282
        },
        "outputId": "5b3b6436-6114-4ceb-c1f2-cdfceadcdbc3"
      },
      "source": [
        "import numpy as np\n",
        "import matplotlib.pyplot as plt\n",
        "\n",
        "x = np.array([1,2,3,4,5,6,7,8])\n",
        "y = x\n",
        "colors = ['green'] * (len(x) - 1)\n",
        "colors.append('red')\n",
        "plt.figure()\n",
        "# s表示点的大小\n",
        "plt.scatter(x, y, s=100, c=colors)"
      ],
      "execution_count": 9,
      "outputs": [
        {
          "output_type": "execute_result",
          "data": {
            "text/plain": [
              "<matplotlib.collections.PathCollection at 0x7fe630722f60>"
            ]
          },
          "metadata": {
            "tags": []
          },
          "execution_count": 9
        },
        {
          "output_type": "display_data",
          "data": {
            "image/png": "[encoded data removed]",
            "text/plain": [
              "<Figure size 432x288 with 1 Axes>"
            ]
          },
          "metadata": {
            "tags": []
          }
        }
      ]
    },
    {
      "cell_type": "code",
      "metadata": {
        "id": "zyoPkcMXeSo6",
        "colab_type": "code",
        "colab": {
          "base_uri": "https://localhost:8080/",
          "height": 52
        },
        "outputId": "ea758c59-5445-48e1-a83b-db620f3826cd"
      },
      "source": [
        "# 从不同list的相同位置，取出元素,组成tuple\n",
        "zip_generator = zip([1,2,3,4,5], [6, 7, 8, 9, 10])\n",
        "#zip_generator = zip([1,2,3,4,5], [6, 7, 8, 9, 10], [11,12,13,14,15])\n",
        "# print(list(zip_generator))\n",
        "\n",
        "# 还原\n",
        "x, y = zip(*zip_generator)\n",
        "print(list(x))\n",
        "print(y)"
      ],
      "execution_count": 11,
      "outputs": [
        {
          "output_type": "stream",
          "text": [
            "[1, 2, 3, 4, 5]\n",
            "(6, 7, 8, 9, 10)\n"
          ],
          "name": "stdout"
        }
      ]
    },
    {
      "cell_type": "markdown",
      "metadata": {
        "id": "aN3k4LIMhd97",
        "colab_type": "text"
      },
      "source": [
        "## Demo 2"
      ]
    },
    {
      "cell_type": "code",
      "metadata": {
        "id": "4WF8YtWCeWuz",
        "colab_type": "code",
        "colab": {
          "base_uri": "https://localhost:8080/",
          "height": 282
        },
        "outputId": "2fca7c0d-372e-42f1-fc88-a4575d47943b"
      },
      "source": [
        "import numpy as np\n",
        "import matplotlib.pyplot as plt\n",
        "\n",
        "x = np.array([1,2,3,4,5])\n",
        "y = x\n",
        "plt.figure()\n",
        "plt.scatter(x[:2], y[:2], s=100, c='red', label='tall student')\n",
        "plt.scatter(x[2:], y[2:], s=100, c='blue', label='stort student')"
      ],
      "execution_count": 12,
      "outputs": [
        {
          "output_type": "execute_result",
          "data": {
            "text/plain": [
              "<matplotlib.collections.PathCollection at 0x7fe6306d87b8>"
            ]
          },
          "metadata": {
            "tags": []
          },
          "execution_count": 12
        },
        {
          "output_type": "display_data",
          "data": {
            "image/png": "[encoded data removed]",
            "text/plain": [
              "<Figure size 432x288 with 1 Axes>"
            ]
          },
          "metadata": {
            "tags": []
          }
        }
      ]
    },
    {
      "cell_type": "markdown",
      "metadata": {
        "id": "aVQSBo08ijID",
        "colab_type": "text"
      },
      "source": [
        "# Axis的补充"
      ]
    },
    {
      "cell_type": "code",
      "metadata": {
        "id": "Rwj4VHsxoVBI",
        "colab_type": "code",
        "colab": {
          "base_uri": "https://localhost:8080/",
          "height": 313
        },
        "outputId": "a4fc5e12-fcf7-4e5f-ae3b-339f4c127b01"
      },
      "source": [
        "import numpy as np\n",
        "import matplotlib.pyplot as plt\n",
        "\n",
        "x = np.array([1,2,3,4,5])\n",
        "y = x\n",
        "plt.figure()\n",
        "#指定label，会再legend显示出来\n",
        "plt.scatter(x, y, s=100,label='tall student')\n",
        "\n",
        "plt.xlabel('The number of times the child kicked a ball')\n",
        "plt.ylabel('The grade of the student')\n",
        "plt.title('Relationship between ball kicking and grades')\n",
        "plt.legend(loc=4, frameon=False, title='Legend')"
      ],
      "execution_count": 30,
      "outputs": [
        {
          "output_type": "execute_result",
          "data": {
            "text/plain": [
              "<matplotlib.legend.Legend at 0x7fe62d67d400>"
            ]
          },
          "metadata": {
            "tags": []
          },
          "execution_count": 30
        },
        {
          "output_type": "display_data",
          "data": {
            "image/png": "[encoded data removed]",
            "text/plain": [
              "<Figure size 432x288 with 1 Axes>"
            ]
          },
          "metadata": {
            "tags": []
          }
        }
      ]
    },
    {
      "cell_type": "code",
      "metadata": {
        "id": "X4WzgnSxim54",
        "colab_type": "code",
        "colab": {
          "base_uri": "https://localhost:8080/",
          "height": 313
        },
        "outputId": "747affc9-058a-454c-acad-50df1a654148"
      },
      "source": [
        "import numpy as np\n",
        "import matplotlib.pyplot as plt\n",
        "\n",
        "x = np.array([1,2,3,4,5])\n",
        "y = x\n",
        "plt.figure()\n",
        "plt.scatter(x[:2], y[:2], s=100, c='red', label='tall student')\n",
        "plt.scatter(x[2:], y[2:], s=100, c='blue', label='stort student')\n",
        "\n",
        "plt.xlabel('The number of times the child kicked a ball')\n",
        "plt.ylabel('The grade of the student')\n",
        "plt.title('Relationship between ball kicking and grades')\n",
        "plt.legend(loc=4, frameon=False, title='Legend')"
      ],
      "execution_count": 28,
      "outputs": [
        {
          "output_type": "execute_result",
          "data": {
            "text/plain": [
              "<matplotlib.legend.Legend at 0x7fe62db564e0>"
            ]
          },
          "metadata": {
            "tags": []
          },
          "execution_count": 28
        },
        {
          "output_type": "display_data",
          "data": {
            "image/png": "[encoded data removed]",
            "text/plain": [
              "<Figure size 432x288 with 1 Axes>"
            ]
          },
          "metadata": {
            "tags": []
          }
        }
      ]
    }
  ]
}